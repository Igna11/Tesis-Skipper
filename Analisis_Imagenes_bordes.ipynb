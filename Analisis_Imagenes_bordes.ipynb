{
 "cells": [
  {
   "cell_type": "code",
   "execution_count": 1,
   "metadata": {},
   "outputs": [],
   "source": [
    "import os\n",
    "import numpy as np\n",
    "import matplotlib.pyplot as plt\n",
    "from astropy.io import fits"
   ]
  },
  {
   "cell_type": "code",
   "execution_count": 2,
   "metadata": {},
   "outputs": [],
   "source": [
    "import skimage.measure\n",
    "from scipy import ndimage as ndi\n",
    "from scipy.stats import poisson\n",
    "import pandas as pd\n",
    "\n",
    "probabilidad = 0.2253\n",
    "\n",
    "import gc # Garbage collector: Para ayudar a mantener la RAM limpia"
   ]
  },
  {
   "cell_type": "code",
   "execution_count": 3,
   "metadata": {},
   "outputs": [],
   "source": [
    "# ============================================================================\n",
    "\n",
    "def regresion_lineal(X, Y):\n",
    "    \"\"\"\n",
    "    Parameters\n",
    "    ----------\n",
    "    X : array like\n",
    "        DESCRIPTION\n",
    "    Y : array like\n",
    "        DESCRIPTION\n",
    "    returns: m y b de la linea mx + b\n",
    "    \"\"\"\n",
    "    N = len(X)\n",
    "    Delta = N*sum(X**2) - (sum(X))**2\n",
    "    m = (N*sum(X*Y) - sum(X)*sum(Y))/Delta\n",
    "    b = (sum(X**2)*sum(Y) - sum(X)*sum(X*Y))/Delta\n",
    "\n",
    "    return m, b\n",
    "\n",
    "def fits_finder(directorio=\".\", extension=\".fits\"):\n",
    "    \"\"\"\n",
    "    Parameters\n",
    "    ----------\n",
    "    directorio : string, optional\n",
    "        DESCRIPTION. The default is \".\"\n",
    "        El directorio \"madre\" del cual se quieren buscar las imágenes .png\n",
    "        de todos sus subdirectorios\n",
    "    extension : string, optional\n",
    "        DESCRIPTION. The default is \".png\"\n",
    "        La extensión del tipo de archivo que se quiere buscar en los\n",
    "        subdirectorios. Es necesario usar \".extension\": EJ: \".png\", \".jpg\"\n",
    "    Returns: string de directorios y archivos .png\n",
    "    \"\"\"\n",
    "    archivos = []\n",
    "    for root, dirs, files in os.walk(directorio):\n",
    "        for name in files:\n",
    "            path = os.path.join(root, name)\n",
    "            size = os.stat(path).st_size/1000\n",
    "            if path.endswith(extension) and size < 500:\n",
    "                archivos.append(path)\n",
    "    return archivos\n",
    "\n",
    "\n",
    "def ADU2e(src_path,\n",
    "          alpha=1.9848e-3,\n",
    "          beta=-9.77376e-11,\n",
    "          gamma=1.87747e-15,\n",
    "          delta=-7.08404e-21,# --> usada en Fano_F_PCC_bkg.c\n",
    "          #alpha=2.0138e-3, beta=3.23e-11, # --> original de adu2e.py\n",
    "          ohdu=0,\n",
    "          save=False):\n",
    "    \"\"\"\n",
    "\n",
    "    From a .fits image, and using the polynomial fit for ADU -> electron\n",
    "    returns both image data:\n",
    "        image in ADU's\n",
    "        image in e- units.\n",
    "\n",
    "    Parameters\n",
    "    ----------\n",
    "    src_path : string\n",
    "        Directory path of the file\n",
    "    alpha : float, optional\n",
    "        By default, alpha = 1.9848e-3\n",
    "        ref: Tesis Kevin Anderson, tabla 3.1: alpha = 1.99e-3\n",
    "    beta : float, optional\n",
    "        By default, beta = -9.77376e-11\n",
    "        ref: Tesis Kevin Anderson, tabla 3.1: beta = 8.61e-11\n",
    "    gamma : float, optional\n",
    "        By default, gamma = 1.87747e-15\n",
    "        ref: Tesis Kevin Anderson, tabla 3.1: gamma = -6.31e-17\n",
    "    delta : float, optional\n",
    "        By default, delta = -7.08404e-21\n",
    "        ref: Tesis Kevin Anderson, tabla 3.1: delta = 2.73e-23\n",
    "    ohdu : int, optional\n",
    "        0, 1, 2, 3 allowed (each sensor of the total sensor)\n",
    "    save : bool, optional\n",
    "        When set True, a new fits file in electron units is saved\n",
    "\n",
    "    Returns\n",
    "    ----------\n",
    "    tuple: (numpy array, numpy array)\n",
    "    \"\"\"\n",
    "    with fits.open(src_path) as fits_img:\n",
    "        ADU_img_data = fits_img[ohdu].data\n",
    "        e_img_data = np.round(ADU_img_data*alpha \n",
    "                              + ADU_img_data**2*beta\n",
    "                              + ADU_img_data**3*gamma\n",
    "                              + ADU_img_data**4*delta)\n",
    "        # =====================================\n",
    "        # Los datos vienen con valores negativos:\n",
    "        # filtro los valores negativos y los transformo en 0\n",
    "        ADU_img_data[ADU_img_data < 0] = 0\n",
    "        e_img_data[e_img_data < 0] = 0\n",
    "\n",
    "        if save:\n",
    "            fits_img[ohdu].data = e_img_data\n",
    "            tgt_path = src_path.strip(\".fits\") + \"electron_units.fits\"\n",
    "            fits_img.writeto(tgt_path)\n",
    "    return e_img_data, ADU_img_data\n",
    "\n",
    "\n",
    "def img2bw(image, lower_thresh=None, upper_thresh=None):\n",
    "    \"\"\"\n",
    "    Binarize the image according to given threshold:\n",
    "    Parameters\n",
    "    ----------\n",
    "    image : numpy array\n",
    "        DESCRIPTION:\n",
    "        numpy array with image data\n",
    "    lowel_trhesh : int - float, optional\n",
    "        DESCRIPTION.\n",
    "        minimum threshold for binarizing. If no input, then None\n",
    "    upper_trhesh : int - float, optional\n",
    "        DESCRIPTION.\n",
    "        maximum threshold for binarizing. If no input, uses None\n",
    "    ----------\n",
    "    Returns: numpy array of bools\n",
    "        DESCRIPTION:\n",
    "        array de numpy con la misma dimensionalidad que el\n",
    "        input, pero con todos valores booleanos.\n",
    "    \"\"\"\n",
    "    if lower_thresh is None:\n",
    "        lower_thresh = 0\n",
    "    if upper_thresh is None:\n",
    "        upper_thresh = np.max(image) + 1\n",
    "    return (image >= lower_thresh) & (image <= upper_thresh)\n",
    "\n",
    "\n",
    "def single_fits2double_fits(src_path, tgt_path=\"\", threshold=1, ohdu=0,\n",
    "                            save=False):\n",
    "    \"\"\"\n",
    "\n",
    "    From one .fits file generates 2 new fits files.\n",
    "\n",
    "    Parameters\n",
    "    ----------\n",
    "    src_path : string\n",
    "        Path to the original .fits file or filename\n",
    "    tgt_path : string\n",
    "        path to the 2 new .fits files or filename WITHOUT EXTENSION.\n",
    "        e.g /media/usr/.../image_name <-- correct\n",
    "        e.g /media/usr/.../image_name.fits <-- incorrect\n",
    "    threshold : int, optional\n",
    "        Threshold to start counting electrons. The data will be divided into\n",
    "        two diferents arrays, one with all pixels having a number of electrons\n",
    "        greater than threshold and the other one having the rest.\n",
    "        The default is 1.\n",
    "    ohdu : int, optional.\n",
    "        0,1,2,3 allowed (each sensor of the total sensor)\n",
    "    save : bool, optional.\n",
    "        If set True, then generates the 2 .fits files with the threshold\n",
    "        applied\n",
    "    Returns\n",
    "    -------\n",
    "    None.\n",
    "\n",
    "    \"\"\"\n",
    "    electron_fits = ADU2e(src_path, ohdu=ohdu)[0]\n",
    "\n",
    "    # make some copies of the original data to modify it avoiding aliasing\n",
    "    elec_minor = electron_fits.copy()\n",
    "    elec_major = electron_fits.copy()\n",
    "\n",
    "    # All pixels with a number of electrons > threshold are set to 0\n",
    "    elec_minor[elec_minor > threshold] = 0\n",
    "    # All pixels with a number of electrons < threshold are set to 0\n",
    "    elec_major[elec_major <= threshold] = 0\n",
    "\n",
    "    # differenciate the minor and major paths\n",
    "    tgt_path_minor = tgt_path + \"minor.fits\"\n",
    "    tgt_path_major = tgt_path + \"major.fits\"\n",
    "    if save is True:\n",
    "        with fits.open(src_path) as fits_img:\n",
    "            # save elec_minor\n",
    "            fits_img[ohdu].data = elec_minor\n",
    "            try:\n",
    "                fits_img.writeto(tgt_path_minor)\n",
    "            except OSError as e:\n",
    "                print(e)\n",
    "                print(\"A file with the same name already exists.\")\n",
    "            # save elec_major\n",
    "            fits_img[ohdu].data = elec_major\n",
    "            try:\n",
    "                fits_img.writeto(tgt_path_major)\n",
    "            except OSError as e:\n",
    "                print(e)\n",
    "                print(\"A file with the same name already exists.\")\n",
    "    return elec_minor, elec_major"
   ]
  },
  {
   "cell_type": "code",
   "execution_count": 4,
   "metadata": {},
   "outputs": [],
   "source": [
    "\"\"\"\n",
    "author: Santiago Ezequiel Perez\n",
    "Quien amablemente me pasó estas funciones para usarlas\n",
    "\"\"\"\n",
    "\n",
    "def get_cluster_info(image, labels):\n",
    "    \"\"\"\n",
    "    Parameters\n",
    "    ----------\n",
    "    image : numpy array\n",
    "        DESCRIPTION:\n",
    "        Array de numpy con los datos de la imagen\n",
    "    labels : numpy array\n",
    "        DESCRIPTION.\n",
    "        Array de numpy de la misma estructura dimensional que el array\n",
    "        imagen. Contiene 0 donde no hay features y contiene enteros \n",
    "        crecientes para etiquetar (labelear) los features.\n",
    "    ----------\n",
    "    Returns: dict\n",
    "        DESCRIPTION:\n",
    "        Diccionario con las siguientes keys:\n",
    "            areas,\n",
    "            centros,\n",
    "            coordenadas,\n",
    "            perimetro,\n",
    "            energias,\n",
    "            box\n",
    "    \"\"\"\n",
    "    def image_intensity(region, intensities):\n",
    "        \"\"\"\n",
    "        Es una función interna de get_cluster_info\n",
    "        Suma las intensidades de una region en unidades de electrones\n",
    "        \"\"\"\n",
    "        return np.sum(intensities[region])\n",
    "\n",
    "    rps = skimage.measure.regionprops(labels,\n",
    "                                      intensity_image=image,\n",
    "                                      cache=False,\n",
    "                                      extra_properties=[image_intensity])\n",
    "    areas = [r.area for r in rps]\n",
    "    energy = [r.image_intensity for r in rps]\n",
    "    centros = [r.centroid for r in rps]\n",
    "    coords = [r.coords for r in rps]\n",
    "    perimetro = [r.perimeter for r in rps]\n",
    "    \n",
    "    dic_props = {\"areas\": areas,\n",
    "                 \"centros\": centros,\n",
    "                 \"coordenadas\": coords,\n",
    "                 \"perimetro\": perimetro,\n",
    "                 \"energias\": energy}\n",
    "    return dic_props"
   ]
  },
  {
   "cell_type": "code",
   "execution_count": 5,
   "metadata": {},
   "outputs": [],
   "source": [
    "DIR = \"/home/igna/Escritorio/Tesis2021/Archivos/T123K\"\n",
    "os.chdir(DIR)\n",
    "fits_imgs_list = fits_finder(DIR)"
   ]
  },
  {
   "cell_type": "code",
   "execution_count": 6,
   "metadata": {},
   "outputs": [],
   "source": [
    "#=============================================================================\n",
    "\n",
    "def image2cluster_info(fits_imgs_list, low_th=2, upp_th=300, ohdu=0, img=\"o\"):\n",
    "    \"\"\"\n",
    "    Extrae la información de los clusters de todas las imágenes y lo guarda en\n",
    "    listas\n",
    "    Parameters\n",
    "    ----------0.81916\n",
    "    fits_imgs_list : list\n",
    "        DESCRIPTION.\n",
    "        lista de directorios donde están las imágenes .fits\n",
    "    img : str - optional\n",
    "        DESCRIPTION.\n",
    "        para indicarle si va a buscar clusters:\n",
    "            \"o\": Busca los features en la imagen original.\n",
    "            \"l\": Busca los features en la imagen simulada, pero usa los labels\n",
    "            para de la imagen original.\n",
    "            \"s\": Busca los features de la iamgen simulada.\n",
    "    low_th : int - optional\n",
    "        DESCRIPTION.\n",
    "        lower detection threshold\n",
    "    upp_th : int - optional\n",
    "        DESCRIPTION.\n",
    "        Upper detection threshold\n",
    "    ohdu : int - optional\n",
    "        DESCRIPTION.\n",
    "        The HDU data: 0, 1, 2, 3 available\n",
    "    ----------\n",
    "    Returns: lista_dics, lista_b_features, lista_img_idxs\n",
    "        DESCRIPTION:\n",
    "        lista con la información\n",
    "    \"\"\"\n",
    "    \n",
    "    # Armo listas donde guardo la info\n",
    "    lista_dics = []\n",
    "    lista_n_features = []\n",
    "    lista_img_idxs = []\n",
    "    \n",
    "    # Hardcodeo el mu de la poissoniana\n",
    "    mu = 0.2253\n",
    "\n",
    "    # recorro las imagenes que quiero usar\n",
    "    for i, image in enumerate(fits_imgs_list):\n",
    "        # Imagen completa\n",
    "        image_o = ADU2e(image, ohdu=ohdu)[0]\n",
    "        \n",
    "        # Imagen con clústers unicamente\n",
    "        image_s = single_fits2double_fits(image, ohdu=ohdu)[1]\n",
    "        # Le agrego ruido a la imagen con clusters unicamente\n",
    "        image_s += poisson.rvs(mu, size=(50, 493))\n",
    "\n",
    "        # Binarizo ambas imagenes:\n",
    "        image_o_bw = img2bw(image_o, lower_thresh=low_th, upper_thresh=upp_th)\n",
    "        image_s_bw = img2bw(image_s, lower_thresh=low_th, upper_thresh=upp_th)\n",
    "\n",
    "        # Genero las labels y también guardo el número de features\n",
    "        label_im_o, n_features_o = ndi.label(image_o_bw,\n",
    "                                             structure=[[0, 1, 0],\n",
    "                                                        [1, 1, 1],\n",
    "                                                        [0, 1, 0]])\n",
    "        label_im_s, n_features_s = ndi.label(image_s_bw,\n",
    "                                             structure=[[0, 1, 0],\n",
    "                                                        [1, 1, 1],\n",
    "                                                        [0, 1, 0]])\n",
    "\n",
    "        # Armo el diccionario con información que devuelve get_cluster_size_etc\n",
    "        if img == \"o\":\n",
    "            dic = get_cluster_info(image_o, label_im_o)\n",
    "            n_features = n_features_o\n",
    "        elif img == \"l\":\n",
    "            dic = get_cluster_info(image_s, label_im_o)\n",
    "            n_features = n_features_o\n",
    "        elif img == \"s\":\n",
    "            dic = get_cluster_info(image_s, label_im_s)\n",
    "            n_features = n_features_s\n",
    "        else:\n",
    "            print(\"opción incorrecta: Solo 'o', 'l', 's' son válidos\")\n",
    "            return 0\n",
    "        lista_dics.append(dic)\n",
    "        lista_n_features.append(n_features)\n",
    "        lista_img_idxs.append(np.ones(n_features)*i)\n",
    "        # Printeo el progreso del ciclo for\n",
    "        print(\"\\r%.2f%%\" % (100*(i+1)/925), end = \"\")\n",
    "    \n",
    "    return lista_dics, lista_img_idxs\n",
    "\n",
    "\n",
    "def df_gen(lista_dics, lista_img_idxs):\n",
    "    \"\"\"\n",
    "    Esta función arma a partir de la listas de información un DataFrame de \n",
    "    pandas para manipular la información más comodamente\n",
    "    Parameters\n",
    "    ----------\n",
    "    lista_dics : list\n",
    "        DESCRIPTION:\n",
    "        lista de diccionarios\n",
    "    lista_img_idxs : list\n",
    "        DESCRIPTION.\n",
    "        lista de índices para identificar una misma imagen\n",
    "    ----------\n",
    "    Returns: pd.DataFrame\n",
    "        DESCRIPTION:\n",
    "        DataFrame con toda la información de las imágenes\n",
    "    \"\"\"\n",
    "    \n",
    "    # armo listas para meter los datos\n",
    "    energias = []\n",
    "    areas = []\n",
    "    centros = []\n",
    "    perimetros = []\n",
    "    \n",
    "    # meto los datos en las listas\n",
    "    for dics in lista_dics:\n",
    "        energias += dics[\"energias\"]\n",
    "        areas += dics[\"areas\"]\n",
    "        centros += dics[\"centros\"]\n",
    "        perimetros += dics[\"perimetro\"]\n",
    "        \n",
    "    # concateno los índices para que sea un solo array\n",
    "    lista_img_idxs = np.concatenate(lista_img_idxs)\n",
    "    \n",
    "    # Armo el dicionario\n",
    "    diccionario = {}\n",
    "    diccionario[\"img_idx\"] = lista_img_idxs\n",
    "    diccionario[\"energia\"] = energias\n",
    "    diccionario[\"area\"] = areas\n",
    "    diccionario[\"centro\"] = centros\n",
    "    diccionario[\"perimetro\"] = perimetros\n",
    "    \n",
    "    return pd.DataFrame.from_dict(diccionario)"
   ]
  },
  {
   "cell_type": "code",
   "execution_count": 7,
   "metadata": {},
   "outputs": [
    {
     "name": "stdout",
     "output_type": "stream",
     "text": [
      "100.00%"
     ]
    },
    {
     "data": {
      "text/plain": [
       "0"
      ]
     },
     "execution_count": 7,
     "metadata": {},
     "output_type": "execute_result"
    }
   ],
   "source": [
    "# =============================================================================\n",
    "lista_data_dics, lista_data_idx_o = image2cluster_info(fits_imgs_list, img=\"o\",\n",
    "                                                       low_th=2, upp_th=None,\n",
    "                                                       ohdu=0)\n",
    "df_data = df_gen(lista_data_dics, lista_data_idx_o)\n",
    "del lista_data_dics, lista_data_idx_o\n",
    "gc.collect()"
   ]
  },
  {
   "cell_type": "code",
   "execution_count": 8,
   "metadata": {},
   "outputs": [
    {
     "data": {
      "image/png": "[encoded data removed]",
      "text/plain": [
       "<Figure size 1224x288 with 1 Axes>"
      ]
     },
     "metadata": {
      "needs_background": "light"
     },
     "output_type": "display_data"
    }
   ],
   "source": [
    "energia_data = df_data[(df_data[\"energia\"]>100) & (df_data[\"energia\"]<300)][\"energia\"]\n",
    "\n",
    "plt.figure(figsize=(17,4))\n",
    "plt.hist(energia_data, bins=250, fill=False);\n",
    "plt.yscale(\"log\")"
   ]
  },
  {
   "cell_type": "markdown",
   "metadata": {},
   "source": [
    "# BORDES\n",
    "\n",
    "Voy a hacer paso a paso el cálculo de los bordes, gracias a más códigos que me pasó Santiago Perez"
   ]
  },
  {
   "cell_type": "code",
   "execution_count": 9,
   "metadata": {},
   "outputs": [
    {
     "data": {
      "text/plain": [
       "<matplotlib.image.AxesImage at 0x7f74ffe384f0>"
      ]
     },
     "execution_count": 9,
     "metadata": {},
     "output_type": "execute_result"
    },
    {
     "data": {
      "image/png": "[encoded data removed]",
      "text/plain": [
       "<Figure size 648x648 with 1 Axes>"
      ]
     },
     "metadata": {
      "needs_background": "light"
     },
     "output_type": "display_data"
    }
   ],
   "source": [
    "# agarro una imagen random\n",
    "img_dir = fits_imgs_list[213]\n",
    "\n",
    "# La transformo a matriz numpy\n",
    "\n",
    "img = ADU2e(img_dir)[0]\n",
    "\n",
    "# binarizo\n",
    "img_bw = img2bw(img, lower_thresh=2)\n",
    "\n",
    "# Structura\n",
    "struc = [[1, 1, 1],\n",
    "         [1, 1, 1],\n",
    "         [1, 1, 1]]\n",
    "\n",
    "# Le busco los labels\n",
    "\n",
    "\n",
    "img_label, count = ndi.label(img_bw, structure=struc)\n",
    "\n",
    "# Miro solo una parte de la imagen\n",
    "\n",
    "plt.figure(figsize=(9,9))\n",
    "plt.imshow(img_label[0:50, 100:150], cmap=\"hot\", vmin=0, vmax=200)"
   ]
  },
  {
   "cell_type": "markdown",
   "metadata": {},
   "source": [
    "Dilato los clusters."
   ]
  },
  {
   "cell_type": "code",
   "execution_count": 10,
   "metadata": {},
   "outputs": [
    {
     "data": {
      "text/plain": [
       "<matplotlib.image.AxesImage at 0x7f74f87b51f0>"
      ]
     },
     "execution_count": 10,
     "metadata": {},
     "output_type": "execute_result"
    },
    {
     "data": {
      "image/png": "[encoded data removed]",
      "text/plain": [
       "<Figure size 648x648 with 1 Axes>"
      ]
     },
     "metadata": {
      "needs_background": "light"
     },
     "output_type": "display_data"
    }
   ],
   "source": [
    "img_dilatada = ndi.morphology.binary_dilation(img_label, structure=struc)\n",
    "plt.figure(figsize=(9, 9))\n",
    "plt.imshow(img_dilatada[0:50, 100:150], cmap=\"hot\")"
   ]
  },
  {
   "cell_type": "markdown",
   "metadata": {},
   "source": [
    "Ahora miro la diferencia entre la imagen dilatada y la original"
   ]
  },
  {
   "cell_type": "code",
   "execution_count": 11,
   "metadata": {},
   "outputs": [
    {
     "data": {
      "text/plain": [
       "<matplotlib.image.AxesImage at 0x7f74ff015280>"
      ]
     },
     "execution_count": 11,
     "metadata": {},
     "output_type": "execute_result"
    },
    {
     "data": {
      "image/png": "[encoded data removed]",
      "text/plain": [
       "<Figure size 648x648 with 1 Axes>"
      ]
     },
     "metadata": {
      "needs_background": "light"
     },
     "output_type": "display_data"
    }
   ],
   "source": [
    "plt.figure(figsize=(9, 9))\n",
    "bordes = (img_dilatada*1.0 - img_bw*1.0)\n",
    "plt.imshow(bordes[0:50, 100:150], cmap=\"hot\")"
   ]
  },
  {
   "cell_type": "markdown",
   "metadata": {},
   "source": [
    "La imagen completa de los bordes"
   ]
  },
  {
   "cell_type": "code",
   "execution_count": 12,
   "metadata": {},
   "outputs": [
    {
     "data": {
      "text/plain": [
       "<matplotlib.image.AxesImage at 0x7f74fbcc2c40>"
      ]
     },
     "execution_count": 12,
     "metadata": {},
     "output_type": "execute_result"
    },
    {
     "data": {
      "image/png": "[encoded data removed]",
      "text/plain": [
       "<Figure size 1224x144 with 1 Axes>"
      ]
     },
     "metadata": {
      "needs_background": "light"
     },
     "output_type": "display_data"
    }
   ],
   "source": [
    "plt.figure(figsize=(17, 2))\n",
    "plt.imshow(bordes, cmap=\"hot\")"
   ]
  },
  {
   "cell_type": "markdown",
   "metadata": {},
   "source": [
    "La relación entre los bordes y la cantidad total de píxeles es"
   ]
  },
  {
   "cell_type": "code",
   "execution_count": 13,
   "metadata": {},
   "outputs": [
    {
     "data": {
      "text/plain": [
       "0.21192697768762678"
      ]
     },
     "execution_count": 13,
     "metadata": {},
     "output_type": "execute_result"
    }
   ],
   "source": [
    "np.sum(bordes)/bordes.size"
   ]
  },
  {
   "cell_type": "markdown",
   "metadata": {},
   "source": [
    "### ¿Qué quiero hacer?\n",
    "\n",
    "- Tomo todas las imágenes y las paso a unidades de electrones usando como threshold 2\n",
    "- Me quedo solo con los clusters que tienen carga enre 160 y 200 electrones. Todo lo demás lo mato.\n",
    "- Dilato esos clusters\n",
    "- Armo la máscara a partir de los clusters dilatados y la imagen sin dilatar\n",
    "- Uso la máscara sobre las images completas y cuento la carga que hay sobre ellos.\n",
    "- Comparo la cantidad de carga sobre los bordes vs la carga esperada en esa cantidad de píxeles por dark current"
   ]
  },
  {
   "cell_type": "code",
   "execution_count": 38,
   "metadata": {},
   "outputs": [
    {
     "name": "stdout",
     "output_type": "stream",
     "text": [
      "\n",
      "imagen 0 sin clusters entre 160 y 200 electrones\n",
      " 7.14%\n",
      "imagen 66 sin clusters entre 160 y 200 electrones\n",
      " 7.35%\n",
      "imagen 68 sin clusters entre 160 y 200 electrones\n",
      " 8.22%\n",
      "imagen 76 sin clusters entre 160 y 200 electrones\n",
      " 12.86%\n",
      "imagen 119 sin clusters entre 160 y 200 electrones\n",
      " 25.51%\n",
      "imagen 236 sin clusters entre 160 y 200 electrones\n",
      " 26.92%\n",
      "imagen 249 sin clusters entre 160 y 200 electrones\n",
      " 31.78%\n",
      "imagen 294 sin clusters entre 160 y 200 electrones\n",
      " 39.14%\n",
      "imagen 362 sin clusters entre 160 y 200 electrones\n",
      " 46.16%\n",
      "imagen 427 sin clusters entre 160 y 200 electrones\n",
      " 46.81%\n",
      "imagen 433 sin clusters entre 160 y 200 electrones\n",
      " 49.19%\n",
      "imagen 455 sin clusters entre 160 y 200 electrones\n",
      " 58.92%\n",
      "imagen 545 sin clusters entre 160 y 200 electrones\n",
      " 60.97%\n",
      "imagen 564 sin clusters entre 160 y 200 electrones\n",
      " 68.76%\n",
      "imagen 636 sin clusters entre 160 y 200 electrones\n",
      " 69.41%\n",
      "imagen 642 sin clusters entre 160 y 200 electrones\n",
      " 84.43%\n",
      "imagen 781 sin clusters entre 160 y 200 electrones\n",
      " 84.97%\n",
      "imagen 786 sin clusters entre 160 y 200 electrones\n",
      " 100.00%\n",
      "Cantidad de carga en bordes: 19641\n",
      "Cantidad de carga esperada por corrientes oscuras: 23263\n",
      "Diferencia de carga: 3622\n",
      "Diferencia promedio en 925 imágenes: 3.92\n",
      "\n",
      "Promedio clusters de 180 p/ imagen: 3.93 +/- 2.05\n"
     ]
    }
   ],
   "source": [
    "def image_intensity(region, intensities):\n",
    "        \"\"\"\n",
    "        Es una función interna de get_cluster_info\n",
    "        Suma las intensidades de una region en unidades de electrones\n",
    "        \"\"\"\n",
    "        return np.sum(intensities[region])\n",
    "\n",
    "# agarro una imagen random\n",
    "carga = 0\n",
    "pixeles = 0\n",
    "clusters_per_pic = []\n",
    "for i, image in enumerate(fits_imgs_list):\n",
    "    cluster_index = []\n",
    "    # Cargo la iamgen original, equivalente a epix 0.5\n",
    "    img = ADU2e(image)[0]\n",
    "    # binarizo con thresh=2 equivalente a epix 1.5\n",
    "    img_bw = img2bw(img, lower_thresh=2)\n",
    "    # Structura\n",
    "    struc = [[1, 1, 1],\n",
    "             [1, 1, 1],\n",
    "             [1, 1, 1]]\n",
    "\n",
    "    # Le busco los labels\n",
    "    img_label, count = ndi.label(img_bw, structure=struc)\n",
    "    \n",
    "    # Usando los labels, voy a buscar los clusters que cumplan que\n",
    "    # tienen entre 160 y 200 electrones\n",
    "    rps = skimage.measure.regionprops(img_label,\n",
    "                                      intensity_image=img,\n",
    "                                      cache=False,\n",
    "                                      extra_properties=[image_intensity])\n",
    "    \n",
    "    # Aprovecho y cuento la cantidad de clusters de 180 por imagen\n",
    "    n_clusters = 0\n",
    "    for r in rps:\n",
    "        intens = r.image_intensity\n",
    "        if intens >= 160 and intens <=200:\n",
    "            cluster_index.append(1)\n",
    "            n_clusters += 1\n",
    "        else:\n",
    "            cluster_index.append(0)\n",
    "    # Appendeo el numero total de clusters contados por imagen\n",
    "    clusters_per_pic.append(n_clusters)\n",
    "    \n",
    "    # Ahora, buscando en qué índice de la lista cluster_index hay 1's,\n",
    "    # puedo matchearlo con el label del mismo valor que el número del\n",
    "    # índice. Esos labels van a sobrevivir, los demás van a ser 0.\n",
    "\n",
    "    # para eso, transformo la lista en array de numpy\n",
    "    cluster_index_np = np.array(cluster_index)\n",
    "\n",
    "    # Lista de vals/indices donde los clusters tienen ese rango de carga\n",
    "    values = list(np.where(cluster_index_np==1)[0])\n",
    "\n",
    "    # Me armo una lista con condiciones (arrays True/False)\n",
    "    conditions = [img_label == value for value in values]\n",
    "\n",
    "    # Ahora me armo la máscara solo en los clusters deseados, para eso\n",
    "    # redefino la img_label. Equivale a haber encontrado solo clusters con\n",
    "    # carga entre 160 y 200 electrones\n",
    "    try:\n",
    "        img_label = np.select(conditions, values)\n",
    "    except ValueError as e:\n",
    "        print(\"\\nimagen %i sin clusters entre 160 y 200 electrones\" % i)\n",
    "        pass\n",
    "\n",
    "    # Ahora dilato esos clusters\n",
    "    img_dilat = ndi.morphology.binary_dilation(img_label, structure=struc)\n",
    "\n",
    "    # Transformo a 0's y 1's la img_dilatada\n",
    "    img_dilat = img_dilat*1#np.where(img_dilat!=0, 1, 0)\n",
    "\n",
    "    # Transformo a 0's y 1's la img_label\n",
    "    img_label = np.where(img_label!=0, 1, 0)\n",
    "\n",
    "    # Hago la máscara usando la imagen dilatada y img_label\n",
    "    mask = img_dilat - img_label\n",
    "\n",
    "    # Se la aplico a la imagen original y sumo la carga\n",
    "    img_bordes = img*mask\n",
    "    carga += np.sum(img_bordes)\n",
    "\n",
    "    # Se la aplico a la binarizada\n",
    "    pixeles += np.sum(mask)\n",
    "    print(\"\\r %.2f%%\" % ((i+1)*100/len(fits_imgs_list)), end=\"\")\n",
    "\n",
    "carga_oscura = pixeles*0.2235\n",
    "diff_carga = carga_oscura - carga\n",
    "mean_cluster = np.mean(clusters_per_pic)\n",
    "std_cluster = np.std(clusters_per_pic)\n",
    "print(\"\\nCantidad de carga en bordes: %i\" % carga)\n",
    "print(\"Cantidad de carga esperada por corrientes oscuras: %i\" % carga_oscura)\n",
    "print(\"Diferencia de carga: %i\" % diff_carga)\n",
    "print(\"Diferencia promedio en 925 imágenes: %.2f\" % (diff_carga/925))\n",
    "print(\"\\nPromedio clusters de 180 p/ imagen: %.2f +/- %.2f\" % (mean_cluster, std_cluster))"
   ]
  },
  {
   "cell_type": "code",
   "execution_count": 31,
   "metadata": {},
   "outputs": [
    {
     "name": "stdout",
     "output_type": "stream",
     "text": [
      "\n",
      "Cantidad de carga en bordes: 5\n",
      "Cantidad de carga esperada por corrientes oscuras: 6\n"
     ]
    }
   ],
   "source": [
    "carga = 0\n",
    "pixeles = 0\n",
    "cluster_index = [h\n",
    "\n",
    "image = fits_imgs_list[924]\n",
    "# Cargo la imagen\n",
    "img = ADU2e(image)[0]\n",
    "# binarizo con thresh=2 equivalente a epix 1.5\n",
    "img_bw = img2bw(img, lower_thresh=2)\n",
    "# Structura\n",
    "struc = [[1, 1, 1],\n",
    "         [1, 1, 1],\n",
    "         [1, 1, 1]]\n",
    "\n",
    "# Le busco los labels\n",
    "img_label, count = ndi.label(img_bw, structure=struc)\n",
    "\n",
    "# Usando los labels, voy a buscar los clusters que cumplan que\n",
    "# tienen entre 160 y 200 electrones\n",
    "rps = skimage.measure.regionprops(img_label,\n",
    "                                  intensity_image=img,\n",
    "                                  cache=False,\n",
    "                                  extra_properties=[image_intensity])\n",
    "\n",
    "for r in rps:\n",
    "    intens = r.image_intensity\n",
    "    if intens >= 160 and intens <=200:\n",
    "        cluster_index.append(1)\n",
    "    else:\n",
    "        cluster_index.append(0)\n",
    "\n",
    "# Ahora, buscando en qué índice de la lista cluster_index hay 1's,\n",
    "# puedo matchearlo con el label del mismo valor que el número del\n",
    "# índice. Esos labels van a sobrevivir, los demás van a ser 0.\n",
    "\n",
    "# para eso, transformo la lista en array de numpy\n",
    "cluster_index = np.array(cluster_index)\n",
    "\n",
    "# Busco los vals/indices donde los clusters tienen ese rango de carga\n",
    "values = list(np.where(cluster_index==1)[0])\n",
    "\n",
    "# Me armo una lista con condiciones (arrays True False)\n",
    "conditions = [img_label == value for value in values]\n",
    "\n",
    "# Ahora me armo la máscara solo en los clusters deseados, para eso\n",
    "# redefino la img_label\n",
    "img_label = np.select(conditions, values)\n",
    "\n",
    "# Ahora dilato\n",
    "img_dilat = ndi.morphology.binary_dilation(img_label, structure=struc)\n",
    "\n",
    "# Transformo a 0's y 1's la img_dilatada\n",
    "img_dilat = np.where(img_dilat!=0, 1, 0)\n",
    "\n",
    "# Transformo a 0's y 1's la img_label\n",
    "img_label = np.where(img_label!=0, 1, 0)\n",
    "\n",
    "# Hago la máscara usando la imagen dilatada y img_label\n",
    "mask = img_dilat - img_label\n",
    "\n",
    "# Se la aplico a la imagen original y sumo la carga\n",
    "img_bordes = img*mask\n",
    "carga += np.sum(img_bordes)\n",
    "\n",
    "# Se la aplico a la binarizada\n",
    "pixeles += np.sum(mask)\n",
    "print(\"\\nCantidad de carga en bordes: %i\" % carga)\n",
    "print(\"Cantidad de carga esperada por corrientes oscuras: %i\" %(pixeles*0.2235))"
   ]
  },
  {
   "cell_type": "code",
   "execution_count": 33,
   "metadata": {
    "scrolled": false
   },
   "outputs": [
    {
     "data": {
      "text/plain": [
       "<matplotlib.image.AxesImage at 0x7f74ff1f3400>"
      ]
     },
     "execution_count": 33,
     "metadata": {},
     "output_type": "execute_result"
    },
    {
     "data": {
      "image/png": "[encoded data removed]",
      "text/plain": [
       "<Figure size 1224x144 with 1 Axes>"
      ]
     },
     "metadata": {
      "needs_background": "light"
     },
     "output_type": "display_data"
    },
    {
     "data": {
      "image/png": "[encoded data removed]",
      "text/plain": [
       "<Figure size 1224x144 with 1 Axes>"
      ]
     },
     "metadata": {
      "needs_background": "light"
     },
     "output_type": "display_data"
    },
    {
     "data": {
      "image/png": "[encoded data removed]",
      "text/plain": [
       "<Figure size 1224x144 with 1 Axes>"
      ]
     },
     "metadata": {
      "needs_background": "light"
     },
     "output_type": "display_data"
    }
   ],
   "source": [
    "plt.figure(figsize=(17,2))\n",
    "plt.imshow(img_label)\n",
    "plt.figure(figsize=(17,2))\n",
    "plt.imshow(img_dilat)\n",
    "plt.figure(figsize=(17,2))\n",
    "plt.imshow(mask)"
   ]
  },
  {
   "cell_type": "code",
   "execution_count": 40,
   "metadata": {},
   "outputs": [],
   "source": [
    "def border_events(img_path, low_th=2, ohdu=0):\n",
    "    # Cargo la imagen\n",
    "    img = ADU2e(img_path, ohdu=ohdu)[0]\n",
    "    # binarizo con thresh=2 equivalente a epix 1.5\n",
    "    img_bw = img2bw(img, lower_thresh=2)\n",
    "    # Structura\n",
    "    struc = [[1, 1, 1],\n",
    "             [1, 1, 1],\n",
    "             [1, 1, 1]]\n",
    "\n",
    "    # Le busco los labels\n",
    "    img_label, count = ndi.label(img_bw, structure=struc)\n",
    "    \n",
    "    # Usando los labels, voy a buscar los clusters que cumplan que\n",
    "    # tienen entre 160 y 200 electrones\n",
    "    \n",
    "    def image_intensity(region, intensities):\n",
    "        \"\"\"\n",
    "        Es una función interna de get_cluster_info\n",
    "        Suma las intensidades de una region en unidades de electrones\n",
    "        \"\"\"\n",
    "        return np.sum(intensities[region])\n",
    "    \n",
    "    rps = skimage.measure.regionprops(img_label,\n",
    "                                      intensity_image=img,\n",
    "                                      cache=False,\n",
    "                                      extra_properties=[image_intensity])\n",
    "    \n",
    "    # Aprovecho y cuento la cantidad de clusters de 180 por imagen\n",
    "    cluster_index = []\n",
    "    n_clusters = 0\n",
    "    for r in rps:\n",
    "        intens = r.image_intensity\n",
    "        if intens >= 160 and intens <=200:\n",
    "            cluster_index.append(1)\n",
    "            n_clusters += 1\n",
    "        else:\n",
    "            cluster_index.append(0)\n",
    "\n",
    "    # Ahora, buscando en qué índice de la lista cluster_index hay 1's,\n",
    "    # puedo matchearlo con el label del mismo valor que el número del\n",
    "    # índice. Esos labels van a sobrevivir, los demás van a ser 0.\n",
    "\n",
    "    # para eso, transformo la lista en array de numpy\n",
    "    cluster_index_np = np.array(cluster_index)\n",
    "\n",
    "    # Lista de vals/indices donde los clusters tienen ese rango de carga\n",
    "    values = list(np.where(cluster_index_np==1)[0])\n",
    "\n",
    "    # Me armo una lista con condiciones (arrays True/False)\n",
    "    conditions = [img_label == value for value in values]\n",
    "\n",
    "    # Ahora me armo la máscara solo en los clusters deseados, para eso\n",
    "    # redefino la img_label. Equivale a haber encontrado solo clusters con\n",
    "    # carga entre 160 y 200 electrones\n",
    "    try:\n",
    "        img_label = np.select(conditions, values)\n",
    "    except ValueError as e:\n",
    "        print(\"imagen %i sin clusters entre 160 y 200 electrones\" % i)\n",
    "        pass\n",
    "\n",
    "    # Ahora dilato esos clusters\n",
    "    img_dilat = ndi.morphology.binary_dilation(img_label, structure=struc)\n",
    "\n",
    "    # Transformo a 0's y 1's la img_dilatada\n",
    "    img_dilat = img_dilat*1#np.where(img_dilat!=0, 1, 0)\n",
    "\n",
    "    # Transformo a 0's y 1's la img_label\n",
    "    img_label = np.where(img_label!=0, 1, 0)\n",
    "\n",
    "    # Hago la máscara usando la imagen dilatada y img_label\n",
    "    mask = img_dilat - img_label\n",
    "\n",
    "    # Se la aplico a la imagen original y sumo la carga\n",
    "    img_bordes = img*mask\n",
    "    carga = np.sum(img_bordes)\n",
    "\n",
    "    # Se la aplico a la binarizada\n",
    "    pixeles = np.sum(mask)\n",
    "    \n",
    "    return carga, pixeles, n_clusters\n"
   ]
  },
  {
   "cell_type": "code",
   "execution_count": 45,
   "metadata": {},
   "outputs": [
    {
     "name": "stdout",
     "output_type": "stream",
     "text": [
      "imagen 0 sin clusters entre 160 y 200 electrones\n",
      " 7.14% Completado. -imagen 66 sin clusters entre 160 y 200 electrones\n",
      " 7.35% Completado. -imagen 68 sin clusters entre 160 y 200 electrones\n",
      " 8.22% Completado. -imagen 76 sin clusters entre 160 y 200 electrones\n",
      " 12.86% Completado. -imagen 119 sin clusters entre 160 y 200 electrones\n",
      " 25.51% Completado. -imagen 236 sin clusters entre 160 y 200 electrones\n",
      " 26.92% Completado. -imagen 249 sin clusters entre 160 y 200 electrones\n",
      " 31.78% Completado. -imagen 294 sin clusters entre 160 y 200 electrones\n",
      " 39.14% Completado. -imagen 362 sin clusters entre 160 y 200 electrones\n",
      " 46.16% Completado. -imagen 427 sin clusters entre 160 y 200 electrones\n",
      " 46.81% Completado. -imagen 433 sin clusters entre 160 y 200 electrones\n",
      " 49.19% Completado. -imagen 455 sin clusters entre 160 y 200 electrones\n",
      " 58.92% Completado. -imagen 545 sin clusters entre 160 y 200 electrones\n",
      " 60.97% Completado. -imagen 564 sin clusters entre 160 y 200 electrones\n",
      " 68.76% Completado. -imagen 636 sin clusters entre 160 y 200 electrones\n",
      " 69.41% Completado. -imagen 642 sin clusters entre 160 y 200 electrones\n",
      " 84.43% Completado. -imagen 781 sin clusters entre 160 y 200 electrones\n",
      " 84.97% Completado. -imagen 786 sin clusters entre 160 y 200 electrones\n",
      " 100.00% Completado. -\n",
      "Cantidad de carga en bordes: 19641\n",
      "Cantidad de carga esperada por corrientes oscuras: 23263\n",
      "Diferencia de carga: 3622\n",
      "Diferencia promedio en 925 imágenes: 3.92\n",
      "\n",
      "Promedio clusters de 180 p/ imagen: 3.93 +/- 2.05\n"
     ]
    }
   ],
   "source": [
    "# ============================================================================\n",
    "\n",
    "cargas_totales = 0\n",
    "pixeles_totales = 0\n",
    "clusters_per_pic = []\n",
    "for i, image in enumerate(fits_imgs_list):\n",
    "    carga, pixeles, n_clusters = border_events(image, low_th=2, ohdu=0)\n",
    "    clusters_per_pic.append(n_clusters)\n",
    "    cargas_totales += carga\n",
    "    pixeles_totales += pixeles\n",
    "    print(\"\\r %.2f%% Completado. -\" % ((i+1)*100/len(fits_imgs_list)), end=\"\")\n",
    "\n",
    "print(\"\\nCantidad de carga en bordes: %i\" % cargas_totales)\n",
    "print(\"Cantidad de carga esperada por corrientes oscuras: %i\" % carga_oscura)\n",
    "print(\"Diferencia de carga: %i\" % diff_carga)\n",
    "print(\"Diferencia promedio en 925 imágenes: %.2f\" % (diff_carga/925))\n",
    "print(\"\\nPromedio clusters de 180 p/ imagen: %.2f +/- %.2f\" % (mean_cluster, std_cluster))"
   ]
  },
  {
   "cell_type": "code",
   "execution_count": null,
   "metadata": {},
   "outputs": [],
   "source": []
  }
 ],
 "metadata": {
  "kernelspec": {
   "display_name": "Python 3",
   "language": "python",
   "name": "python3"
  },
  "language_info": {
   "codemirror_mode": {
    "name": "ipython",
    "version": 3
   },
   "file_extension": ".py",
   "mimetype": "text/x-python",
   "name": "python",
   "nbconvert_exporter": "python",
   "pygments_lexer": "ipython3",
   "version": "3.8.5"
  }
 },
 "nbformat": 4,
 "nbformat_minor": 4
}
