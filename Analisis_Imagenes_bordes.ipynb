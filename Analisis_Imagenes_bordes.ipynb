{
 "cells": [
  {
   "cell_type": "code",
   "execution_count": 1,
   "metadata": {},
   "outputs": [],
   "source": [
    "import os\n",
    "import numpy as np\n",
    "import matplotlib.pyplot as plt\n",
    "from astropy.io import fits"
   ]
  },
  {
   "cell_type": "code",
   "execution_count": 2,
   "metadata": {},
   "outputs": [],
   "source": [
    "import skimage.measure\n",
    "from scipy import ndimage as ndi\n",
    "from scipy.stats import poisson\n",
    "import pandas as pd\n",
    "\n",
    "probabilidad = 0.2253\n",
    "\n",
    "import gc # Garbage collector: Para ayudar a mantener la RAM limpia"
   ]
  },
  {
   "cell_type": "code",
   "execution_count": 20,
   "metadata": {},
   "outputs": [],
   "source": [
    "def regresion_lineal(X, Y):\n",
    "    \"\"\"\n",
    "    Parameters\n",
    "    ----------\n",
    "    X : array like\n",
    "        DESCRIPTION\n",
    "    Y : array like\n",
    "        DESCRIPTION\n",
    "    returns: m y b de la linea mx + b\n",
    "    \"\"\"\n",
    "    N = len(X)\n",
    "    Delta = N*sum(X**2) - (sum(X))**2\n",
    "    m = (N*sum(X*Y) - sum(X)*sum(Y))/Delta\n",
    "    b = (sum(X**2)*sum(Y) - sum(X)*sum(X*Y))/Delta\n",
    "\n",
    "    return m, b\n",
    "\n",
    "def fits_finder(directorio=\".\", extension=\".fits\"):\n",
    "    \"\"\"\n",
    "    Parameters\n",
    "    ----------\n",
    "    directorio : string, optional\n",
    "        DESCRIPTION. The default is \".\"\n",
    "        El directorio \"madre\" del cual se quieren buscar las imágenes .png\n",
    "        de todos sus subdirectorios\n",
    "    extension : string, optional\n",
    "        DESCRIPTION. The default is \".png\"\n",
    "        La extensión del tipo de archivo que se quiere buscar en los\n",
    "        subdirectorios. Es necesario usar \".extension\": EJ: \".png\", \".jpg\"\n",
    "    Returns: string de directorios y archivos .png\n",
    "    \"\"\"\n",
    "    archivos = []\n",
    "    for root, dirs, files in os.walk(directorio):\n",
    "        for name in files:\n",
    "            path = os.path.join(root, name)\n",
    "            size = os.stat(path).st_size/1000\n",
    "            if path.endswith(extension) and size < 500:\n",
    "                archivos.append(path)\n",
    "    return archivos\n",
    "\n",
    "\n",
    "def ADU2e(src_path,\n",
    "          #alpha=1.9848e-3, beta=2.46803e-7, # --> usada en Fano_F_PCC_bkg.c\n",
    "          alpha=2.0138e-3, beta=3.23e-11, # --> original de adu2e.py\n",
    "          ohdu=0,\n",
    "          save=False):\n",
    "    \"\"\"\n",
    "\n",
    "    From a .fits image, and using the polynomial fit for ADU -> electron\n",
    "    returns both image data:\n",
    "        image in ADU's\n",
    "        image in e- units.\n",
    "\n",
    "    Parameters\n",
    "    ----------\n",
    "    src_path : string\n",
    "        Directory path of the file\n",
    "    alpha : float, optional\n",
    "        By default, alpha = 20138e-7\n",
    "        refs: DE DONDE SALEN ESTOS NUMEROS?\n",
    "        ref: Tesis Kevin Anderson, tabla 3.1: alpha = 1.99e-3\n",
    "    beta : float, optional\n",
    "        By default, beta = 323e-13\n",
    "        refs: DE DONDE SALEN ESTOS NUMEROS?\n",
    "        ref: Tesis Kevin Anderson, tabla 3.1: beta = 8.61e-11\n",
    "    ohdu : int, optional\n",
    "        0, 1, 2, 3 allowed (each sensor of the total sensor)\n",
    "    save : bool, optional\n",
    "        When set True, a new fits file in electron units is saved\n",
    "\n",
    "    Returns\n",
    "    ----------\n",
    "    tuple: (numpy array, numpy array)\n",
    "    \"\"\"\n",
    "    with fits.open(src_path) as fits_img:\n",
    "        ADU_img_data = fits_img[ohdu].data\n",
    "        e_img_data = np.round(ADU_img_data*alpha + ADU_img_data**2*beta)\n",
    "        # =====================================\n",
    "        # Los datos vienen con valores negativos:\n",
    "        # filtro los valores negativos y los transformo en 0\n",
    "        ADU_img_data[ADU_img_data < 0] = 0\n",
    "        e_img_data[e_img_data < 0] = 0\n",
    "\n",
    "        if save is True:\n",
    "            fits_img[ohdu].data = e_img_data\n",
    "            tgt_path = src_path.strip(\".fits\") + \"electron_units.fits\"\n",
    "            fits_img.writeto(tgt_path)\n",
    "    return e_img_data, ADU_img_data\n",
    "\n",
    "\n",
    "def single_fits2double_fits(src_path, tgt_path=\"\", threshold=1, ohdu=0,\n",
    "                            save=False):\n",
    "    \"\"\"\n",
    "\n",
    "    From one .fits file generates 2 new fits files.\n",
    "\n",
    "    Parameters\n",
    "    ----------\n",
    "    src_path : string\n",
    "        Path to the original .fits file or filename\n",
    "    tgt_path : string\n",
    "        path to the 2 new .fits files or filename WITHOUT EXTENSION.\n",
    "        e.g /media/usr/.../image_name <-- correct\n",
    "        e.g /media/usr/.../image_name.fits <-- incorrect\n",
    "    threshold : int, optional\n",
    "        Threshold to start counting electrons. The data will be divided into\n",
    "        two diferents arrays, one with all pixels having a number of electrons\n",
    "        greater than threshold and the other one having the rest.\n",
    "        The default is 1.\n",
    "    ohdu : int, optional.\n",
    "        0,1,2,3 allowed (each sensor of the total sensor)\n",
    "    save : bool, optional.\n",
    "        If set True, then generates the 2 .fits files with the threshold\n",
    "        applied\n",
    "    Returns\n",
    "    -------\n",
    "    None.\n",
    "\n",
    "    \"\"\"\n",
    "    electron_fits = ADU2e(src_path, ohdu=ohdu)[0]\n",
    "\n",
    "    # make some copies of the original data to modify it avoiding aliasing\n",
    "    elec_minor = electron_fits.copy()\n",
    "    elec_major = electron_fits.copy()\n",
    "\n",
    "    # All pixels with a number of electrons > threshold are set to 0\n",
    "    elec_minor[elec_minor > threshold] = 0\n",
    "    # All pixels with a number of electrons < threshold are set to 0\n",
    "    elec_major[elec_major <= threshold] = 0\n",
    "\n",
    "    # differenciate the minor and major paths\n",
    "    tgt_path_minor = tgt_path + \"minor.fits\"\n",
    "    tgt_path_major = tgt_path + \"major.fits\"\n",
    "    if save is True:\n",
    "        with fits.open(src_path) as fits_img:\n",
    "            # save elec_minor\n",
    "            fits_img[ohdu].data = elec_minor\n",
    "            try:\n",
    "                fits_img.writeto(tgt_path_minor)\n",
    "            except OSError as e:\n",
    "                print(e)\n",
    "                print(\"A file with the same name already exists.\")\n",
    "            # save elec_major\n",
    "            fits_img[ohdu].data = elec_major\n",
    "            try:\n",
    "                fits_img.writeto(tgt_path_major)\n",
    "            except OSError as e:\n",
    "                print(e)\n",
    "                print(\"A file with the same name already exists.\")\n",
    "    return elec_minor, elec_major"
   ]
  },
  {
   "cell_type": "code",
   "execution_count": 4,
   "metadata": {},
   "outputs": [],
   "source": [
    "\"\"\"\n",
    "author: Santiago Ezequiel Perez\n",
    "Quien amablemente me pasó estas funciones para usarlas\n",
    "\"\"\"\n",
    "\n",
    "def get_cluster_info(image, labels):\n",
    "    \"\"\"\n",
    "    Parameters\n",
    "    ----------\n",
    "    image : numpy array\n",
    "        DESCRIPTION:\n",
    "        Array de numpy con los datos de la imagen\n",
    "    labels : numpy array\n",
    "        DESCRIPTION.\n",
    "        Array de numpy de la misma estructura dimensional que el array\n",
    "        imagen. Contiene 0 donde no hay features y contiene enteros \n",
    "        crecientes para etiquetar (labelear) los features.\n",
    "    ----------\n",
    "    Returns: dict\n",
    "        DESCRIPTION:\n",
    "        Diccionario con las siguientes keys:\n",
    "            areas,\n",
    "            centros,\n",
    "            coordenadas,\n",
    "            perimetro,\n",
    "            energias,\n",
    "            box\n",
    "    \"\"\"\n",
    "    def image_intensity(region, intensities):\n",
    "        \"\"\"\n",
    "        Es una función interna de get_cluster_info\n",
    "        Suma las intensidades de una region en unidades de electrones\n",
    "        \"\"\"\n",
    "        return np.sum(intensities[region])\n",
    "\n",
    "    rps = skimage.measure.regionprops(labels,\n",
    "                                      intensity_image=image,\n",
    "                                      cache=False,\n",
    "                                      extra_properties=[image_intensity])\n",
    "    areas = [r.area for r in rps]\n",
    "    energy = [r.image_intensity for r in rps]\n",
    "    centros = [r.centroid for r in rps]\n",
    "    coords = [r.coords for r in rps]\n",
    "    perimetro = [r.perimeter for r in rps]\n",
    "    \n",
    "    dic_props = {\"areas\": areas,\n",
    "                 \"centros\": centros,\n",
    "                 \"coordenadas\": coords,\n",
    "                 \"perimetro\": perimetro,\n",
    "                 \"energias\": energy}\n",
    "    return dic_props\n",
    "\n",
    "def img2bw(image, lower_thresh=None, upper_thresh=None):\n",
    "    \"\"\"\n",
    "    Binariza la imagen ingresada según el threshold dado:\n",
    "    Parameters\n",
    "    ----------\n",
    "    image : numpy array\n",
    "        DESCRIPTION:\n",
    "        Array de numpy con los datos de la imagen\n",
    "    lowel_trhesh : int - float, optional\n",
    "        DESCRIPTION.\n",
    "        threshold minimo para el binarizado de la imagen.\n",
    "        Si nada es ingresado, entonces se toma como nulo\n",
    "    upper_trhesh : int - float, optional\n",
    "        DESCRIPTION.\n",
    "        threshold máximo para el binarizado de la imagen.\n",
    "        Si nada es ingresado, entonces se toma como nulo\n",
    "    ----------\n",
    "    Returns: numpy array of bools\n",
    "        DESCRIPTION:\n",
    "        array de numpy con la misma dimensionalidad que el\n",
    "        input, pero con todos valores booleanos.\n",
    "    \"\"\"\n",
    "    if lower_thresh is None:\n",
    "        lower_thresh = 0\n",
    "    if upper_thresh is None:\n",
    "        upper_thresh = np.max(image) + 1\n",
    "    return (image >= lower_thresh) & (image <= upper_thresh)"
   ]
  },
  {
   "cell_type": "code",
   "execution_count": 5,
   "metadata": {},
   "outputs": [],
   "source": [
    "DIR = \"/home/igna/Escritorio/Tesis2021/Archivos/T123K\"\n",
    "os.chdir(DIR)\n",
    "fits_imgs_list = fits_finder(DIR)"
   ]
  },
  {
   "cell_type": "code",
   "execution_count": 6,
   "metadata": {},
   "outputs": [],
   "source": [
    "#=============================================================================\n",
    "\n",
    "def image2cluster_info(fits_imgs_list, low_th=2, upp_th=300, ohdu=0, img=\"o\"):\n",
    "    \"\"\"\n",
    "    Extrae la información de los clusters de todas las imágenes y lo guarda en\n",
    "    listas\n",
    "    Parameters\n",
    "    ----------0.81916\n",
    "    fits_imgs_list : list\n",
    "        DESCRIPTION.\n",
    "        lista de directorios donde están las imágenes .fits\n",
    "    img : str - optional\n",
    "        DESCRIPTION.\n",
    "        para indicarle si va a buscar clusters:\n",
    "            \"o\": Busca los features en la imagen original.\n",
    "            \"l\": Busca los features en la imagen simulada, pero usa los labels\n",
    "            para de la imagen original.\n",
    "            \"s\": Busca los features de la iamgen simulada.\n",
    "    low_th : int - optional\n",
    "        DESCRIPTION.\n",
    "        lower detection threshold\n",
    "    upp_th : int - optional\n",
    "        DESCRIPTION.\n",
    "        Upper detection threshold\n",
    "    ohdu : int - optional\n",
    "        DESCRIPTION.\n",
    "        The HDU data: 0, 1, 2, 3 available\n",
    "    ----------\n",
    "    Returns: lista_dics, lista_b_features, lista_img_idxs\n",
    "        DESCRIPTION:\n",
    "        lista con la información\n",
    "    \"\"\"\n",
    "    \n",
    "    # Armo listas donde guardo la info\n",
    "    lista_dics = []\n",
    "    lista_n_features = []\n",
    "    lista_img_idxs = []\n",
    "    \n",
    "    # Hardcodeo el mu de la poissoniana\n",
    "    mu = 0.2253\n",
    "\n",
    "    # recorro las imagenes que quiero usar\n",
    "    for i, image in enumerate(fits_imgs_list):\n",
    "        # Imagen completa\n",
    "        image_o = ADU2e(image, ohdu=ohdu)[0]\n",
    "        \n",
    "        # Imagen con clústers unicamente\n",
    "        image_s = single_fits2double_fits(image, ohdu=ohdu)[1]\n",
    "        # Le agrego ruido a la imagen con clusters unicamente\n",
    "        image_s += poisson.rvs(mu, size=(50, 493))\n",
    "\n",
    "        # Binarizo ambas imagenes:\n",
    "        image_o_bw = img2bw(image_o, lower_thresh=low_th, upper_thresh=upp_th)\n",
    "        image_s_bw = img2bw(image_s, lower_thresh=low_th, upper_thresh=upp_th)\n",
    "\n",
    "        # Genero las labels y también guardo el número de features\n",
    "        label_im_o, n_features_o = ndi.label(image_o_bw,\n",
    "                                             structure=[[0, 1, 0],\n",
    "                                                        [1, 1, 1],\n",
    "                                                        [0, 1, 0]])\n",
    "        label_im_s, n_features_s = ndi.label(image_s_bw,\n",
    "                                             structure=[[0, 1, 0],\n",
    "                                                        [1, 1, 1],\n",
    "                                                        [0, 1, 0]])\n",
    "\n",
    "        # Armo el diccionario con información que devuelve get_cluster_size_etc\n",
    "        if img == \"o\":\n",
    "            dic = get_cluster_info(image_o, label_im_o)\n",
    "            n_features = n_features_o\n",
    "        elif img == \"l\":\n",
    "            dic = get_cluster_info(image_s, label_im_o)\n",
    "            n_features = n_features_o\n",
    "        elif img == \"s\":\n",
    "            dic = get_cluster_info(image_s, label_im_s)\n",
    "            n_features = n_features_s\n",
    "        else:\n",
    "            print(\"opción incorrecta: Solo 'o', 'l', 's' son válidos\")\n",
    "            return 0\n",
    "        lista_dics.append(dic)\n",
    "        lista_n_features.append(n_features)\n",
    "        lista_img_idxs.append(np.ones(n_features)*i)\n",
    "        # Printeo el progreso del ciclo for\n",
    "        print(\"\\r%.2f%%\" % (100*(i+1)/925), end = \"\")\n",
    "    \n",
    "    return lista_dics, lista_img_idxs\n",
    "\n",
    "\n",
    "def df_gen(lista_dics, lista_img_idxs):\n",
    "    \"\"\"\n",
    "    Esta función arma a partir de la listas de información un DataFrame de \n",
    "    pandas para manipular la información más comodamente\n",
    "    Parameters\n",
    "    ----------\n",
    "    lista_dics : list\n",
    "        DESCRIPTION:\n",
    "        lista de diccionarios\n",
    "    lista_img_idxs : list\n",
    "        DESCRIPTION.\n",
    "        lista de índices para identificar una misma imagen\n",
    "    ----------\n",
    "    Returns: pd.DataFrame\n",
    "        DESCRIPTION:\n",
    "        DataFrame con toda la información de las imágenes\n",
    "    \"\"\"\n",
    "    \n",
    "    # armo listas para meter los datos\n",
    "    energias = []\n",
    "    areas = []\n",
    "    centros = []\n",
    "    perimetros = []\n",
    "    \n",
    "    # meto los datos en las listas\n",
    "    for dics in lista_dics:\n",
    "        energias += dics[\"energias\"]\n",
    "        areas += dics[\"areas\"]\n",
    "        centros += dics[\"centros\"]\n",
    "        perimetros += dics[\"perimetro\"]\n",
    "        \n",
    "    # concateno los índices para que sea un solo array\n",
    "    lista_img_idxs = np.concatenate(lista_img_idxs)\n",
    "    \n",
    "    # Armo el dicionario\n",
    "    diccionario = {}\n",
    "    diccionario[\"img_idx\"] = lista_img_idxs\n",
    "    diccionario[\"energia\"] = energias\n",
    "    diccionario[\"area\"] = areas\n",
    "    diccionario[\"centro\"] = centros\n",
    "    diccionario[\"perimetro\"] = perimetros\n",
    "    \n",
    "    return pd.DataFrame.from_dict(diccionario)"
   ]
  },
  {
   "cell_type": "code",
   "execution_count": 7,
   "metadata": {},
   "outputs": [
    {
     "name": "stdout",
     "output_type": "stream",
     "text": [
      "100.00%"
     ]
    },
    {
     "data": {
      "text/plain": [
       "0"
      ]
     },
     "execution_count": 7,
     "metadata": {},
     "output_type": "execute_result"
    }
   ],
   "source": [
    "# =============================================================================\n",
    "lista_data_dics, lista_data_idx_o = image2cluster_info(fits_imgs_list, img=\"o\",\n",
    "                                                       low_th=2, upp_th=None,\n",
    "                                                       ohdu=0)\n",
    "df_data = df_gen(lista_data_dics, lista_data_idx_o)\n",
    "del lista_data_dics, lista_data_idx_o\n",
    "gc.collect()"
   ]
  },
  {
   "cell_type": "code",
   "execution_count": 16,
   "metadata": {},
   "outputs": [
    {
     "data": {
      "image/png": "[encoded data removed]",
      "text/plain": [
       "<Figure size 1224x288 with 1 Axes>"
      ]
     },
     "metadata": {
      "needs_background": "light"
     },
     "output_type": "display_data"
    }
   ],
   "source": [
    "energia_data = df_data[(df_data[\"energia\"]>100) & (df_data[\"energia\"]<300)][\"energia\"]\n",
    "\n",
    "plt.figure(figsize=(17,4))\n",
    "plt.hist(energia_data, bins=250, fill=False);\n",
    "plt.yscale(\"log\")"
   ]
  },
  {
   "cell_type": "markdown",
   "metadata": {},
   "source": [
    "# BORDES\n",
    "\n",
    "Voy a hacer paso a paso el cálculo de los bordes, gracias a más códigos que me pasó Santiago Perez"
   ]
  },
  {
   "cell_type": "code",
   "execution_count": 79,
   "metadata": {},
   "outputs": [
    {
     "data": {
      "text/plain": [
       "<matplotlib.image.AxesImage at 0x7f599aac8070>"
      ]
     },
     "execution_count": 79,
     "metadata": {},
     "output_type": "execute_result"
    },
    {
     "data": {
      "image/png": "[encoded data removed]",
      "text/plain": [
       "<Figure size 648x648 with 1 Axes>"
      ]
     },
     "metadata": {
      "needs_background": "light"
     },
     "output_type": "display_data"
    }
   ],
   "source": [
    "# agarro una imagen random\n",
    "img_dir = fits_imgs_list[213]\n",
    "\n",
    "# La transformo a matriz numpy\n",
    "\n",
    "img = ADU2e(img_dir)[0]\n",
    "\n",
    "# binarizo\n",
    "img_bw = img2bw(img, lower_thresh=2)\n",
    "\n",
    "# Structura\n",
    "struc = [[1, 1, 1],\n",
    "         [1, 1, 1],\n",
    "         [1, 1, 1]]\n",
    "\n",
    "# Le busco los labels\n",
    "\n",
    "\n",
    "img_label, count = ndi.label(img_bw, structure=struc)\n",
    "\n",
    "# Miro solo una parte de la imagen\n",
    "\n",
    "plt.figure(figsize=(9,9))\n",
    "plt.imshow(img_label[0:50, 100:150], cmap=\"hot\", vmin=0, vmax=200)"
   ]
  },
  {
   "cell_type": "markdown",
   "metadata": {},
   "source": [
    "Dilato los clusters."
   ]
  },
  {
   "cell_type": "code",
   "execution_count": 77,
   "metadata": {},
   "outputs": [
    {
     "data": {
      "text/plain": [
       "<matplotlib.image.AxesImage at 0x7f5994f3edf0>"
      ]
     },
     "execution_count": 77,
     "metadata": {},
     "output_type": "execute_result"
    },
    {
     "data": {
      "image/png": "[encoded data removed]",
      "text/plain": [
       "<Figure size 648x648 with 1 Axes>"
      ]
     },
     "metadata": {
      "needs_background": "light"
     },
     "output_type": "display_data"
    }
   ],
   "source": [
    "img_dilatada = ndi.morphology.binary_dilation(img_label, structure=struc)\n",
    "plt.figure(figsize=(9, 9))\n",
    "plt.imshow(img_dilatada[0:50, 100:150], cmap=\"hot\")"
   ]
  },
  {
   "cell_type": "markdown",
   "metadata": {},
   "source": [
    "Ahora miro la diferencia entre la imagen dilatada y la original"
   ]
  },
  {
   "cell_type": "code",
   "execution_count": 105,
   "metadata": {},
   "outputs": [
    {
     "data": {
      "text/plain": [
       "<matplotlib.image.AxesImage at 0x7f5990774460>"
      ]
     },
     "execution_count": 105,
     "metadata": {},
     "output_type": "execute_result"
    },
    {
     "data": {
      "image/png": "[encoded data removed]",
      "text/plain": [
       "<Figure size 648x648 with 1 Axes>"
      ]
     },
     "metadata": {
      "needs_background": "light"
     },
     "output_type": "display_data"
    }
   ],
   "source": [
    "plt.figure(figsize=(9, 9))\n",
    "bordes = (img_dilatada*1.0 - img_bw*1.0)\n",
    "plt.imshow(bordes[0:50, 100:150], cmap=\"hot\")"
   ]
  },
  {
   "cell_type": "markdown",
   "metadata": {},
   "source": [
    "La imagen completa de los bordes"
   ]
  },
  {
   "cell_type": "code",
   "execution_count": 107,
   "metadata": {},
   "outputs": [
    {
     "data": {
      "text/plain": [
       "<matplotlib.image.AxesImage at 0x7f599271f820>"
      ]
     },
     "execution_count": 107,
     "metadata": {},
     "output_type": "execute_result"
    },
    {
     "data": {
      "image/png": "[encoded data removed]",
      "text/plain": [
       "<Figure size 1224x144 with 1 Axes>"
      ]
     },
     "metadata": {
      "needs_background": "light"
     },
     "output_type": "display_data"
    }
   ],
   "source": [
    "plt.figure(figsize=(17, 2))\n",
    "plt.imshow(bordes, cmap=\"hot\")"
   ]
  },
  {
   "cell_type": "markdown",
   "metadata": {},
   "source": [
    "La relación entre los bordes y la cantidad total de píxeles es"
   ]
  },
  {
   "cell_type": "code",
   "execution_count": 113,
   "metadata": {},
   "outputs": [
    {
     "data": {
      "text/plain": [
       "0.21306288032454362"
      ]
     },
     "execution_count": 113,
     "metadata": {},
     "output_type": "execute_result"
    }
   ],
   "source": [
    "np.sum(bordes)/bordes.size"
   ]
  }
 ],
 "metadata": {
  "kernelspec": {
   "display_name": "Python 3",
   "language": "python",
   "name": "python3"
  },
  "language_info": {
   "codemirror_mode": {
    "name": "ipython",
    "version": 3
   },
   "file_extension": ".py",
   "mimetype": "text/x-python",
   "name": "python",
   "nbconvert_exporter": "python",
   "pygments_lexer": "ipython3",
   "version": "3.8.5"
  }
 },
 "nbformat": 4,
 "nbformat_minor": 4
}
