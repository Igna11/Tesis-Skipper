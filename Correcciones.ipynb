{
 "cells": [
  {
   "cell_type": "code",
   "execution_count": 1,
   "metadata": {},
   "outputs": [],
   "source": [
    "import os\n",
    "import numpy as np\n",
    "from scipy import ndimage as ndi\n",
    "from scipy.stats import poisson\n",
    "from scipy.stats import norm\n",
    "import matplotlib.pyplot as plt\n",
    "import pandas as pd\n",
    "\n",
    "from analyfits import misc\n",
    "from analyfits import manipufits\n",
    "from analyfits import datafits"
   ]
  },
  {
   "cell_type": "code",
   "execution_count": 8,
   "metadata": {},
   "outputs": [],
   "source": [
    "# Cargo una lista con los directorios de todas las imágenes.\n",
    "DIR = \"/home/igna/Escritorio/Tesis2021/Archivos/T123K\"\n",
    "#DIR_win = \"D:\\ignag\\Igna\\Facultad\\Tesis2021\\Archivos\\T123K_B\"\n",
    "os.chdir(DIR)\n",
    "fits_imgs_list = misc.fits_finder(DIR)"
   ]
  },
  {
   "cell_type": "code",
   "execution_count": 9,
   "metadata": {},
   "outputs": [
    {
     "data": {
      "text/plain": [
       "925"
      ]
     },
     "execution_count": 9,
     "metadata": {},
     "output_type": "execute_result"
    }
   ],
   "source": [
    "len(fits_imgs_list)"
   ]
  },
  {
   "cell_type": "markdown",
   "metadata": {},
   "source": [
    "# 1) $\\mu_{T}$\n",
    "## Calculo la contribución total en el primer borde cercano a clusters"
   ]
  },
  {
   "cell_type": "code",
   "execution_count": 4,
   "metadata": {},
   "outputs": [
    {
     "name": "stdout",
     "output_type": "stream",
     "text": [
      "Completado 100.00%"
     ]
    }
   ],
   "source": [
    "ones = 0\n",
    "zeros = 0\n",
    "for i, img in enumerate(fits_imgs_list):\n",
    "    # Original\n",
    "    img_original = manipufits.ADU2e(img)[0][:, 8:451]\n",
    "    # 2 o más eventos\n",
    "    img_clusters = manipufits.single_fits2double_fits(img)[1][:, 8:451]\n",
    "    # Estructura\n",
    "    struct = [[1,1,1],\n",
    "              [1,1,1],\n",
    "              [1,1,1]]\n",
    "    \n",
    "    # Máscara (dilato 1 vez)\n",
    "    mask = ndi.morphology.binary_dilation(img_clusters, structure=struct)\n",
    "    # Resta: A la máscara le saco los pixeles donde hay eventos de 2 o más\n",
    "    mask = np.where(img_clusters!=0, 0, mask)\n",
    "    # A la imagen original le saco todos los eventos menos los que cayeron en la mask\n",
    "    img_1e = np.where(mask!=0, img_original, 0)\n",
    "    # acumulo\n",
    "    ones += img_1e[img_1e!=0].size\n",
    "    zeros += np.sum(mask)\n",
    "    porcentaje = (i+1)*100/len(fits_imgs_list)\n",
    "    print(f\"\\rCompletado {porcentaje:.2f}%\",end= \"\")\n",
    "mu_T, error_mu_T = ones/zeros, np.sqrt((1/np.sqrt(ones))**2 + (1/np.sqrt(zeros))**2)*(ones/zeros)"
   ]
  },
  {
   "cell_type": "markdown",
   "metadata": {},
   "source": [
    "# 2) $\\mu_{bkg}$\n",
    "## Calculo la contribución del background a la esperanza total de eventos de 1 electron usando unicamente los eventos en el segundo borde cercano a los clusters"
   ]
  },
  {
   "cell_type": "code",
   "execution_count": 5,
   "metadata": {},
   "outputs": [
    {
     "name": "stdout",
     "output_type": "stream",
     "text": [
      "Completado 100.00%"
     ]
    }
   ],
   "source": [
    "ones = 0\n",
    "zeros = 0\n",
    "for i, img in enumerate(fits_imgs_list):\n",
    "    # Original\n",
    "    img_original = manipufits.ADU2e(img)[0][:, 8:451]\n",
    "    # 2 o más eventos\n",
    "    img_clusters = manipufits.single_fits2double_fits(img)[1][:, 8:451]\n",
    "    # Estructura\n",
    "    struct = [[1,1,1],\n",
    "              [1,1,1],\n",
    "              [1,1,1]]\n",
    "    \n",
    "    # Máscara1 (dilato 1 vez)\n",
    "    mask_1 = ndi.morphology.binary_dilation(img_clusters, structure=struct)\n",
    "    # máscara2 (dilato 1 vez mask_1)\n",
    "    mask_2 = ndi.morphology.binary_dilation(mask_1, structure=struct)\n",
    "    # Resta: A la máscara2 le saco los pixeles de mask_1\n",
    "    mask_2 = np.where(mask_1!=0, 0, mask_2)\n",
    "    # A la imagen original le saco todos los eventos menos los que cayeron en la mask\n",
    "    img_1e = np.where(mask_2!=0, img_original, 0)\n",
    "    # acumulo\n",
    "    ones += img_1e[img_1e!=0].size\n",
    "    zeros += np.sum(mask_2)\n",
    "    porcentaje = (i+1)*100/len(fits_imgs_list)\n",
    "    print(f\"\\rCompletado {porcentaje:.2f}%\",end= \"\")\n",
    "mu_bkg, error_mu_bkg = ones/zeros, np.sqrt((1/np.sqrt(ones))**2 + (1/np.sqrt(zeros))**2)*(ones/zeros)"
   ]
  },
  {
   "cell_type": "markdown",
   "metadata": {},
   "source": [
    "# 3) $\\mu_{g}$\n",
    "## Calculo la esperanza para los eventos de un electrón genuinos"
   ]
  },
  {
   "cell_type": "code",
   "execution_count": 6,
   "metadata": {},
   "outputs": [],
   "source": [
    "mu_g = mu_T - mu_bkg\n",
    "error_mu_g = error_mu_T - error_mu_bkg"
   ]
  },
  {
   "cell_type": "code",
   "execution_count": 7,
   "metadata": {},
   "outputs": [
    {
     "name": "stdout",
     "output_type": "stream",
     "text": [
      "mu_T = 0.2040032554 +/- 0.0002427943\n",
      "mu_bkg = 0.1899700260 +/- 0.0002051048\n",
      "mu_g = 0.0140332294 +/- 0.0000376895\n"
     ]
    }
   ],
   "source": [
    "print(f\"mu_T = {mu_T:.10f} +/- {error_mu_T:.10f}\")\n",
    "print(f\"mu_bkg = {mu_bkg:.10f} +/- {error_mu_bkg:.10f}\")\n",
    "print(f\"mu_g = {mu_g:.10f} +/- {error_mu_g:.10f}\")"
   ]
  },
  {
   "cell_type": "code",
   "execution_count": null,
   "metadata": {},
   "outputs": [],
   "source": []
  }
 ],
 "metadata": {
  "kernelspec": {
   "display_name": "Python 3",
   "language": "python",
   "name": "python3"
  },
  "language_info": {
   "codemirror_mode": {
    "name": "ipython",
    "version": 3
   },
   "file_extension": ".py",
   "mimetype": "text/x-python",
   "name": "python",
   "nbconvert_exporter": "python",
   "pygments_lexer": "ipython3",
   "version": "3.8.5"
  }
 },
 "nbformat": 4,
 "nbformat_minor": 4
}
